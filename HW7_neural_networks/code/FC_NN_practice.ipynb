{
  "cells": [
    {
      "cell_type": "markdown",
      "metadata": {
        "colab_type": "text",
        "id": "view-in-github"
      },
      "source": [
        "<a href=\"https://colab.research.google.com/github/danon6868/BI-ml-2024/blob/main/lecture_8_pytorch/homework/FC_NN_practice.ipynb\" target=\"_parent\"><img src=\"https://colab.research.google.com/assets/colab-badge.svg\" alt=\"Open In Colab\"/></a>"
      ]
    },
    {
      "cell_type": "markdown",
      "metadata": {
        "id": "-pSGPQS8Btmc"
      },
      "source": [
        "Всем привет! Сегодня вы впервые попробуете написать свою собственную нейронную сеть и попробовать ее обучить. Мы будем работать с картинками, но пока что не совсем тем способом, которым лучше всего это делать, но должно получиться неплохо.\n",
        "\n",
        "Будем работать с [датасетом](https://github.com/rois-codh/kmnist) `Kuzushiji-MNIST` (`KMNIST`). Это рукописные буквы, изображения имеют размер (28, 28, 1) и разделены на 10 классов, по ссылке можно прочитать подробнее."
      ]
    },
    {
      "cell_type": "code",
      "execution_count": 3,
      "metadata": {
        "id": "75HVAP_RFU7r"
      },
      "outputs": [],
      "source": [
        "import numpy as np\n",
        "import torch\n",
        "import matplotlib.pyplot as plt\n",
        "from IPython.display import clear_output"
      ]
    },
    {
      "cell_type": "markdown",
      "metadata": {
        "id": "46iQ8ixtEruP"
      },
      "source": [
        "## Загрузка данных"
      ]
    },
    {
      "cell_type": "markdown",
      "metadata": {
        "id": "R6h1jVreJlV-"
      },
      "source": [
        "Сейчас мы будем использовать встроенные данные, но в реальности приходится писать свой класс для датасета (Dataset), у которого реализовывать несколько обязательных методов (напр, `__getitem__`), но это обсудим уже потом."
      ]
    },
    {
      "cell_type": "code",
      "execution_count": 4,
      "metadata": {
        "id": "s9L9Z02o_1bK"
      },
      "outputs": [],
      "source": [
        "import torchvision\n",
        "from torchvision.datasets import KMNIST\n",
        "\n",
        "\n",
        "# Превращает картинки в тензоры\n",
        "transform = torchvision.transforms.Compose(\n",
        "    [torchvision.transforms.ToTensor()])\n",
        "\n",
        "# Загрузим данные (в переменных лежат объекты типа `Dataset`)\n",
        "# В аргумент `transform` мы передаем необходимые трансформации (ToTensor)\n",
        "trainset = KMNIST(root=\"./KMNIST\", train=True, download=True, transform=transform)\n",
        "testset = KMNIST(root=\"./KMNIST\", train=False, download=True, transform=transform)\n",
        "\n",
        "clear_output()"
      ]
    },
    {
      "cell_type": "markdown",
      "metadata": {
        "id": "V83E2vDrO9CC"
      },
      "source": [
        "Определим даталоадеры, они нужны, чтобы реализовывать стохастический градиентный спуск (то есть мы не хотим считывать в оперативную память все картинки сразу, а делать это батчами)."
      ]
    },
    {
      "cell_type": "code",
      "execution_count": 24,
      "metadata": {
        "id": "oqC8XO8pO8Px"
      },
      "outputs": [],
      "source": [
        "from torch.utils.data import DataLoader\n",
        "\n",
        "\n",
        "# Можно оставить таким\n",
        "batch_size = 256\n",
        "\n",
        "trainloader = DataLoader(trainset, batch_size=batch_size, shuffle=True, num_workers=2)\n",
        "testloader = DataLoader(testset, batch_size=batch_size, shuffle=False, num_workers=2)"
      ]
    },
    {
      "cell_type": "markdown",
      "metadata": {
        "id": "-Ntp5sLoPyGx"
      },
      "source": [
        "Подумайте, как может влиять на скорость обучения параметр `batch_size`, почему вы так считаете?\n",
        "\n",
        "**Ответ:**"
      ]
    },
    {
      "cell_type": "markdown",
      "metadata": {},
      "source": [
        "`batch_size` влияет на общее время обучения, время обучения на единицу времени, качество модели. Чем больше `batch_size`, тем быстрее обучается модель, но ее качество может снизиться. Поэтому важен баланс."
      ]
    },
    {
      "cell_type": "markdown",
      "metadata": {
        "id": "t2vmM4KaHvrs"
      },
      "source": [
        "Посмотрим на какую-нибудь картинку:"
      ]
    },
    {
      "cell_type": "code",
      "execution_count": 6,
      "metadata": {
        "colab": {
          "base_uri": "https://localhost:8080/",
          "height": 266
        },
        "id": "N-b-kFCYAoOP",
        "outputId": "d077a35b-f874-40c2-e1da-1f461c11172f"
      },
      "outputs": [
        {
          "data": {
            "image/png": "[encoded data removed]",
            "text/plain": [
              "<Figure size 640x480 with 1 Axes>"
            ]
          },
          "metadata": {},
          "output_type": "display_data"
        }
      ],
      "source": [
        "plt.imshow(trainset[0][0].view(28, 28).numpy(), cmap=\"gray\")\n",
        "plt.axis(\"off\")\n",
        "plt.title(f\"Class is {trainset[0][1]}\", fontsize=16);"
      ]
    },
    {
      "cell_type": "markdown",
      "metadata": {
        "id": "8_MSY231Hzz9"
      },
      "source": [
        "### Задание 1. Смотрим на картинки\n",
        "\n",
        "**2** балла\n",
        "\n",
        "Нарисуйте на одном графике изображения всех 10 классов:"
      ]
    },
    {
      "cell_type": "markdown",
      "metadata": {
        "id": "j0tNdHM5JS6l"
      },
      "source": [
        "⣿⣿⣿⣿⣿⣿⠿⢋⣥⣴⣶⣶⣶⣬⣙⠻⠟⣋⣭⣭⣭⣭⡙⠻⣿⣿⣿⣿⣿\n",
        "⣿⣿⣿⣿⡿⢋⣴⣿⣿⠿⢟⣛⣛⣛⠿⢷⡹⣿⣿⣿⣿⣿⣿⣆⠹⣿⣿⣿⣿\n",
        "⣿⣿⣿⡿⢁⣾⣿⣿⣴⣿⣿⣿⣿⠿⠿⠷⠥⠱⣶⣶⣶⣶⡶⠮⠤⣌⡙⢿⣿\n",
        "⣿⡿⢛⡁⣾⣿⣿⣿⡿⢟⡫⢕⣪⡭⠥⢭⣭⣉⡂⣉⡒⣤⡭⡉⠩⣥⣰⠂⠹\n",
        "⡟⢠⣿⣱⣿⣿⣿⣏⣛⢲⣾⣿⠃⠄⠐⠈⣿⣿⣿⣿⣿⣿⠄⠁⠃⢸⣿⣿⡧\n",
        "⢠⣿⣿⣿⣿⣿⣿⣿⣿⣇⣊⠙⠳⠤⠤⠾⣟⠛⠍⣹⣛⣛⣢⣀⣠⣛⡯⢉⣰\n",
        "⣿⣿⣿⣿⣿⣿⣿⣿⣿⣿⣿⣿⣷⡶⠶⢒⣠⣼⣿⣿⣛⠻⠛⢛⣛⠉⣴⣿⣿\n",
        "⣿⣿⣿⣿⣿⣿⣿⡿⢛⡛⢿⣿⣿⣶⣿⣿⣿⣿⣿⣿⣿⣿⣿⣿⣿⣷⡈⢿⣿\n",
        "⣿⣿⣿⣿⣿⣿⣿⠸⣿⡻⢷⣍⣛⠻⠿⠿⣿⣿⣿⣿⣿⣿⣿⣿⣿⠿⢇⡘⣿\n",
        "⣿⣿⣿⣿⣿⣿⣿⣷⣝⠻⠶⣬⣍⣛⣛⠓⠶⠶⠶⠤⠬⠭⠤⠶⠶⠞⠛⣡⣿\n",
        "⢿⣿⣿⣿⣿⣿⣿⣿⣿⣿⣷⣶⣬⣭⣍⣙⣛⣛⣛⠛⠛⠛⠿⠿⠿⠛⣠⣿⣿\n",
        "⣦⣈⠉⢛⠻⠿⠿⢿⣿⣿⣿⣿⣿⣿⣿⣿⣿⣿⣿⡿⠿⠛⣁⣴⣾⣿⣿⣿⣿\n",
        "⣿⣿⣿⣶⣮⣭⣁⣒⣒⣒⠂⠠⠬⠭⠭⠭⢀⣀⣠⣄⡘⠿⣿⣿⣿⣿⣿⣿⣿\n",
        "⣿⣿⣿⣿⣿⣿⣿⣿⣿⣿⣿⣿⣿⣿⣿⣿⣿⣿⣿⣿⣿⣦⡈⢿⣿⣿⣿⣿⣿\n",
        "\n",
        "\n",
        "\n"
      ]
    },
    {
      "cell_type": "code",
      "execution_count": 15,
      "metadata": {
        "id": "x3j6Bsu9AoT6"
      },
      "outputs": [
        {
          "data": {
            "image/png": "[encoded data removed]",
            "text/plain": [
              "<Figure size 1000x700 with 10 Axes>"
            ]
          },
          "metadata": {},
          "output_type": "display_data"
        }
      ],
      "source": [
        "fig, axs = plt.subplots(nrows=2, ncols=5, figsize=(10, 7))\n",
        "for i, ax in enumerate(axs.ravel()):\n",
        "    a = i\n",
        "    while trainset[a][1] != i:\n",
        "        a += 1\n",
        "    ax.imshow(trainset[a][0].view(28, 28).numpy(), cmap=\"gray\")\n",
        "    ax.axis(\"off\")\n",
        "    ax.set_title(f\"Class {trainset[a][1]}\", fontsize=8)\n",
        "\n",
        "plt.subplots_adjust(wspace=0.1, hspace=-0.5)\n",
        "plt.show();"
      ]
    },
    {
      "cell_type": "markdown",
      "metadata": {
        "id": "dLCfnFW-JtGx"
      },
      "source": [
        "### Задание 2. Строим свой первый MLP\n",
        "\n",
        "**4** балла\n",
        "\n",
        "MLP (multilayer perceptron) или нейронная сеть из полносвязных (линейных) слоев, это мы уже знаем.\n",
        "\n",
        "Опишите структуру сети: 3 полносвязных слоя + функции активации на ваш выбор. **Подумайте** про активацию после последнего слоя!\n",
        "\n",
        "Сеть на выходе 1 слоя должна иметь 256 признаков, на выходе из 2 128 признаков, на выходе из последнего столько, сколько у вас классов.\n",
        "\n",
        "https://pytorch.org/docs/stable/nn.html?highlight=activation#non-linear-activations-weighted-sum-nonlinearity"
      ]
    },
    {
      "cell_type": "code",
      "execution_count": 16,
      "metadata": {
        "id": "dhYBvQIXJdSz"
      },
      "outputs": [],
      "source": [
        "import torch.nn as nn\n",
        "\n",
        "class FCNet(nn.Module):\n",
        "    def __init__(self):\n",
        "        super().__init__() #  это надо помнить!\n",
        "        ## YOUR CODE HERE\n",
        "\n",
        "        self.fc1 = nn.Linear(in_features=28*28, out_features=256)\n",
        "        self.fc2 = nn.Linear(in_features=256, out_features=128)\n",
        "        self.fc3 = nn.Linear(in_features=128, out_features=10)\n",
        "        self.activation = nn.LeakyReLU()\n",
        "\n",
        "\n",
        "    def forward(self, x):  # Forward вызывается внутри метода __call__ родительского класса\n",
        "        ## x -> тензор размерности (BATCH_SIZE, N_CHANNELS, WIDTH, HEIGHT)\n",
        "        ## надо подумать над тем, что у нас полносвязные слои принимают векторы\n",
        "\n",
        "        ## YOUR CODE HERE\n",
        "\n",
        "        x = x.view(-1, 28*28) # переведем картинку в вектор\n",
        "        x = self.fc1(x)\n",
        "        x = self.activation(x)\n",
        "        x = self.fc2(x)\n",
        "        x = self.activation(x)\n",
        "        logits = self.fc3(x)\n",
        "\n",
        "        return logits"
      ]
    },
    {
      "cell_type": "markdown",
      "metadata": {
        "id": "uI0R77EQNKef"
      },
      "source": [
        "Сколько обучаемых параметров у вашей модели (весов и смещений)?\n",
        "\n",
        "**Ответ:**"
      ]
    },
    {
      "cell_type": "code",
      "execution_count": 20,
      "metadata": {
        "id": "MvGiuoykrzzJ"
      },
      "outputs": [
        {
          "name": "stdout",
          "output_type": "stream",
          "text": [
            "The answer is 235146\n"
          ]
        }
      ],
      "source": [
        "n_parameters = (28*28*256 + 256*128 + 128*10) + (256 + 128 + 10)\n",
        "print(f'The answer is {n_parameters}')"
      ]
    },
    {
      "cell_type": "markdown",
      "metadata": {
        "id": "iwGllji2M4lp"
      },
      "source": [
        "### Задание 3. Напишите код для обучения модели\n",
        "\n",
        "**5** баллов\n",
        "\n",
        "Можно (и нужно) подглядывать в код семинара по пайторчу. Вам нужно создать модель, определить функцию потерь и оптимизатор (начнем с `SGD`). Дальше нужно обучать модель, при помощи тренировочного `Dataloader'a` и считать лосс на тренировочном и тестовом `Dataloader'ах`."
      ]
    },
    {
      "cell_type": "markdown",
      "metadata": {
        "id": "Grv9xcybRfCX"
      },
      "source": [
        "Напишем функцию для рассчета `accuracy`:"
      ]
    },
    {
      "cell_type": "code",
      "execution_count": 39,
      "metadata": {
        "id": "9D2QPFe5JdVc"
      },
      "outputs": [],
      "source": [
        "def get_accuracy(model, dataloader):\n",
        "    \"\"\"\n",
        "    model - обученная нейронная сеть\n",
        "    dataloader - даталоадер, на котором вы хотите посчитать accuracy\n",
        "    \"\"\"\n",
        "    correct = 0\n",
        "    total = 0\n",
        "    with torch.no_grad(): # Тензоры внутри этого блока будут иметь requires_grad=False\n",
        "        for images, labels in dataloader:\n",
        "            outputs = model(images)\n",
        "            _, predicted = torch.max(outputs.data, 1)\n",
        "            total += labels.size(0)\n",
        "            correct += (predicted == labels).sum().item()\n",
        "    accuracy = correct / total\n",
        "\n",
        "    return accuracy"
      ]
    },
    {
      "cell_type": "markdown",
      "metadata": {
        "id": "D3EmoWJyTBkE"
      },
      "source": [
        "#### Основной цикл обучения\n",
        "\n",
        "Этот код можно (и зачастую нужно) выносить в отдельную функцию, но пока что можете это не делать, все по желанию)"
      ]
    },
    {
      "cell_type": "code",
      "execution_count": 40,
      "metadata": {
        "id": "uIZKSOdgUi3e"
      },
      "outputs": [],
      "source": [
        "# Создадим объект модели\n",
        "fc_net = FCNet()\n",
        "# Определим функцию потерь\n",
        "loss_function = nn.CrossEntropyLoss()\n",
        "# Создадим оптимизатор для нашей сети\n",
        "lr = 0.001 # скорость обучения\n",
        "optimizer = torch.optim.Adam(fc_net.parameters(), lr=3e-4)"
      ]
    },
    {
      "cell_type": "markdown",
      "metadata": {
        "id": "uKYzXFqoX_fd"
      },
      "source": [
        "Напишите цикл обучения. Для начала хватит 10 эпох. Какое значение `accuracy` на тестовой выборке удалось получить?"
      ]
    },
    {
      "cell_type": "code",
      "execution_count": 41,
      "metadata": {
        "id": "Ma2bshC6MxI6"
      },
      "outputs": [],
      "source": [
        "def train_model(n_epochs, dataloader):\n",
        "    loss_history = []\n",
        "    for epoch in range(n_epochs):\n",
        "        epoch_loss = 0\n",
        "        for images, labels in dataloader:\n",
        "            optimizer.zero_grad()\n",
        "            outputs = fc_net(images)\n",
        "            loss = loss_function(outputs, labels)\n",
        "            loss.backward()\n",
        "            optimizer.step()\n",
        "\n",
        "            epoch_loss += loss.item()\n",
        "\n",
        "        loss_history.append(epoch_loss / len(dataloader))\n",
        "\n",
        "        print(f\"Epoch {epoch + 1} - Loss: {loss_history[epoch]:.4f}\")\n",
        "\n",
        "    return loss_history"
      ]
    },
    {
      "cell_type": "code",
      "execution_count": 42,
      "metadata": {},
      "outputs": [
        {
          "name": "stdout",
          "output_type": "stream",
          "text": [
            "Epoch 1 - Loss: 0.6959\n",
            "Epoch 2 - Loss: 0.3034\n",
            "Epoch 3 - Loss: 0.2223\n",
            "Epoch 4 - Loss: 0.1732\n",
            "Epoch 5 - Loss: 0.1382\n",
            "Epoch 6 - Loss: 0.1113\n",
            "Epoch 7 - Loss: 0.0906\n",
            "Epoch 8 - Loss: 0.0756\n",
            "Epoch 9 - Loss: 0.0618\n",
            "Epoch 10 - Loss: 0.0493\n"
          ]
        }
      ],
      "source": [
        "n_epochs = 10\n",
        "loss_history = train_model(n_epochs, trainloader)"
      ]
    },
    {
      "cell_type": "code",
      "execution_count": 43,
      "metadata": {
        "id": "2cB5LRbrS3BN"
      },
      "outputs": [
        {
          "data": {
            "text/plain": [
              "0.8902"
            ]
          },
          "execution_count": 43,
          "metadata": {},
          "output_type": "execute_result"
        }
      ],
      "source": [
        "get_accuracy(fc_net, testloader)"
      ]
    },
    {
      "cell_type": "markdown",
      "metadata": {
        "id": "4HTJzBM8Yk1R"
      },
      "source": [
        "### Задание 4. Изучение влияния нормализации\n",
        "\n",
        "**3** балла\n",
        "\n",
        "Вы могли заметить, что мы забыли провести нормализацию наших данных, а для нейронных сетей это может быть очень критично.\n",
        "\n",
        "Нормализуйте данные.\n",
        "\n",
        "* Подсчитайте среднее значение и стандартное отклонение интенсивности пикселей для всех тренировочных данных\n",
        "* Нормализуйте данные с использованием этих параметров (используйте трансформацию `Normalize`)\n",
        "\n",
        "\n",
        "Оцените влияние нормировки данных."
      ]
    },
    {
      "cell_type": "code",
      "execution_count": 45,
      "metadata": {
        "id": "FHlDaYWGR6YA"
      },
      "outputs": [
        {
          "name": "stdout",
          "output_type": "stream",
          "text": [
            "tensor(0.1907) tensor(0.3537)\n"
          ]
        }
      ],
      "source": [
        "mean = torch.mean(next(iter(trainloader))[0]) ## calculate mean\n",
        "std = torch.std(next(iter(trainloader))[0]) ## calculate std\n",
        "print(mean, std)\n",
        "\n",
        "transform_with_norm = torchvision.transforms.Compose([\n",
        "                torchvision.transforms.ToTensor(),\n",
        "                torchvision.transforms.Normalize(mean, std)\n",
        "            ])\n",
        "\n",
        "trainset.transform = transform_with_norm\n",
        "testset.transform = transform_with_norm"
      ]
    },
    {
      "cell_type": "code",
      "execution_count": 46,
      "metadata": {
        "id": "Qj93J3X_R6aa"
      },
      "outputs": [],
      "source": [
        "fc_net = FCNet()\n",
        "loss_function = nn.CrossEntropyLoss()\n",
        "lr = 0.001\n",
        "optimizer = torch.optim.Adam(fc_net.parameters(), lr=3e-4)"
      ]
    },
    {
      "cell_type": "code",
      "execution_count": 47,
      "metadata": {
        "id": "VWZtYBCvAoWQ"
      },
      "outputs": [
        {
          "name": "stdout",
          "output_type": "stream",
          "text": [
            "Epoch 1 - Loss: 0.6828\n",
            "Epoch 2 - Loss: 0.3039\n",
            "Epoch 3 - Loss: 0.2253\n",
            "Epoch 4 - Loss: 0.1762\n",
            "Epoch 5 - Loss: 0.1418\n",
            "Epoch 6 - Loss: 0.1149\n",
            "Epoch 7 - Loss: 0.0943\n",
            "Epoch 8 - Loss: 0.0771\n",
            "Epoch 9 - Loss: 0.0637\n",
            "Epoch 10 - Loss: 0.0517\n"
          ]
        }
      ],
      "source": [
        "n_epochs = 10\n",
        "loss_history_norm = train_model(n_epochs, trainloader)"
      ]
    },
    {
      "cell_type": "code",
      "execution_count": 48,
      "metadata": {
        "id": "Gfbv9OIAAoYT"
      },
      "outputs": [
        {
          "data": {
            "text/plain": [
              "0.8971"
            ]
          },
          "execution_count": 48,
          "metadata": {},
          "output_type": "execute_result"
        }
      ],
      "source": [
        "get_accuracy(fc_net, testloader)"
      ]
    },
    {
      "cell_type": "markdown",
      "metadata": {
        "id": "RcIJvhWkcjlh"
      },
      "source": [
        "Как изменилась `accuracy` после нормализации?"
      ]
    },
    {
      "cell_type": "markdown",
      "metadata": {},
      "source": [
        "Совсем немного повысилась! "
      ]
    },
    {
      "cell_type": "markdown",
      "metadata": {
        "id": "atcfzu4acxP2"
      },
      "source": [
        "### Задание 5. Изучение влияния функции активации\n",
        "\n",
        "**3** балла\n",
        "\n",
        "Исследуйте влияние функций активации на скорость обучения и точность предсказаний модели.\n",
        "\n",
        "Используйте три функции:\n",
        "\n",
        "* [Sigmoid](https://pytorch.org/docs/stable/nn.functional.html#sigmoid)\n",
        "* [GELU](https://pytorch.org/docs/stable/nn.functional.html#gelu)\n",
        "* [Tanh](https://pytorch.org/docs/stable/generated/torch.nn.Tanh.html#torch.nn.Tanh)"
      ]
    },
    {
      "cell_type": "code",
      "execution_count": null,
      "metadata": {
        "id": "bAESPpjGa3M1"
      },
      "outputs": [],
      "source": [
        "## YOUR CODE HERE"
      ]
    },
    {
      "cell_type": "code",
      "execution_count": 66,
      "metadata": {},
      "outputs": [],
      "source": [
        "class FCNet_act(nn.Module):\n",
        "    def __init__(self, activation):\n",
        "        super().__init__()\n",
        "\n",
        "        self.fc1 = nn.Linear(in_features=28*28, out_features=256)\n",
        "        self.fc2 = nn.Linear(in_features=256, out_features=128)\n",
        "        self.fc3 = nn.Linear(in_features=128, out_features=10)\n",
        "        self.activation = activation\n",
        "       \n",
        "\n",
        "    def forward(self, x):\n",
        "        x = x.view(-1, 28*28)\n",
        "        x = self.fc1(x)\n",
        "        x = self.activation(x)\n",
        "        x = self.fc2(x)\n",
        "        x = self.activation(x)\n",
        "        logits = self.fc3(x) \n",
        "\n",
        "        return logits"
      ]
    },
    {
      "cell_type": "code",
      "execution_count": 67,
      "metadata": {},
      "outputs": [
        {
          "name": "stdout",
          "output_type": "stream",
          "text": [
            "--------------------\n",
            "activation = ReLU()\n"
          ]
        },
        {
          "name": "stdout",
          "output_type": "stream",
          "text": [
            "Epoch 1 Loss: 0.7004\n",
            "Epoch 2 Loss: 0.3130\n",
            "Epoch 3 Loss: 0.2294\n",
            "Epoch 4 Loss: 0.1785\n",
            "Epoch 5 Loss: 0.1423\n",
            "Epoch 6 Loss: 0.1148\n",
            "Epoch 7 Loss: 0.0941\n",
            "Epoch 8 Loss: 0.0784\n",
            "Epoch 9 Loss: 0.0641\n",
            "Epoch 10 Loss: 0.0521\n",
            "accuracy score: 0.8988\n",
            "--------------------\n",
            "activation = Sigmoid()\n",
            "Epoch 1 Loss: 1.5429\n",
            "Epoch 2 Loss: 0.7570\n",
            "Epoch 3 Loss: 0.5478\n",
            "Epoch 4 Loss: 0.4472\n",
            "Epoch 5 Loss: 0.3779\n",
            "Epoch 6 Loss: 0.3247\n",
            "Epoch 7 Loss: 0.2818\n",
            "Epoch 8 Loss: 0.2460\n",
            "Epoch 9 Loss: 0.2162\n",
            "Epoch 10 Loss: 0.1914\n",
            "accuracy score: 0.8536\n",
            "--------------------\n",
            "activation = GELU(approximate='none')\n",
            "Epoch 1 Loss: 0.6622\n",
            "Epoch 2 Loss: 0.2848\n",
            "Epoch 3 Loss: 0.2068\n",
            "Epoch 4 Loss: 0.1575\n",
            "Epoch 5 Loss: 0.1247\n",
            "Epoch 6 Loss: 0.0997\n",
            "Epoch 7 Loss: 0.0808\n",
            "Epoch 8 Loss: 0.0643\n",
            "Epoch 9 Loss: 0.0518\n",
            "Epoch 10 Loss: 0.0407\n",
            "accuracy score: 0.9022\n",
            "--------------------\n",
            "activation = Tanh()\n",
            "Epoch 1 Loss: 0.7666\n",
            "Epoch 2 Loss: 0.3776\n",
            "Epoch 3 Loss: 0.2533\n",
            "Epoch 4 Loss: 0.1819\n",
            "Epoch 5 Loss: 0.1358\n",
            "Epoch 6 Loss: 0.1022\n",
            "Epoch 7 Loss: 0.0779\n",
            "Epoch 8 Loss: 0.0583\n",
            "Epoch 9 Loss: 0.0426\n",
            "Epoch 10 Loss: 0.0315\n",
            "accuracy score: 0.8999\n"
          ]
        }
      ],
      "source": [
        "activations = [nn.ReLU(), nn.Sigmoid(), nn.GELU(), nn.Tanh()]\n",
        "\n",
        "lr = 0.001\n",
        "n_epochs = 10\n",
        "\n",
        "for activation in activations:\n",
        "    print('-'*20)\n",
        "    print(f'{activation = }')\n",
        "    fc_net = FCNet_act(activation = activation)\n",
        "    loss_function = nn.CrossEntropyLoss()\n",
        "    optimizer = torch.optim.Adam(fc_net.parameters(), lr=3e-4)\n",
        "    \n",
        "    loss_history = []\n",
        "    for epoch in range(n_epochs):\n",
        "        epoch_loss = 0\n",
        "        for images, labels in trainloader:\n",
        "            optimizer.zero_grad()\n",
        "            outputs = fc_net(images)\n",
        "            loss = loss_function(outputs, labels)\n",
        "            loss.backward()\n",
        "            optimizer.step()\n",
        "\n",
        "            epoch_loss += loss.item()\n",
        "\n",
        "        loss_history.append(epoch_loss/len(trainloader))\n",
        "        \n",
        "        print(f\"Epoch {epoch+1} Loss: {loss_history[epoch]:.4f}\")\n",
        "    print(f\"accuracy score: {get_accuracy(fc_net, testloader)}\")"
      ]
    },
    {
      "cell_type": "markdown",
      "metadata": {
        "id": "aG2Oyxy2egVV"
      },
      "source": [
        "С использованием какой функции активации удалось досчить наибольшей `accuracy`?"
      ]
    },
    {
      "cell_type": "markdown",
      "metadata": {},
      "source": [
        "С использованием `GELU`, на втором месте `tahn`"
      ]
    },
    {
      "cell_type": "markdown",
      "metadata": {
        "id": "20Ls3Bfsifqd"
      },
      "source": [
        "### Задание 6. Другие оптимизаторы\n",
        "\n",
        "**4** балла\n",
        "\n",
        "Исследуйте влияние оптимизаторов на скорость обучения и точность предсказаний модели.\n",
        "\n",
        "Попробуйте следующие:\n",
        "\n",
        "* [Adam](https://pytorch.org/docs/stable/generated/torch.optim.Adam.html#torch.optim.Adam)\n",
        "* [RMSprop](https://pytorch.org/docs/stable/generated/torch.optim.RMSprop.html#torch.optim.RMSprop)\n",
        "* [Adagrad](https://pytorch.org/docs/stable/generated/torch.optim.Adagrad.html#torch.optim.Adagrad)\n",
        "\n",
        "Вам нужно снова обучить 3 модели и сравнить их перформанс (функцию активации используйте ту, которая показала себя лучше всего)."
      ]
    },
    {
      "cell_type": "code",
      "execution_count": 59,
      "metadata": {
        "id": "rzL2LdA-ifJh"
      },
      "outputs": [
        {
          "name": "stdout",
          "output_type": "stream",
          "text": [
            "--------------------\n",
            "optimisator = <class 'torch.optim.adam.Adam'>\n",
            "Epoch 1 - Loss: 0.6508\n",
            "Epoch 2 - Loss: 0.2771\n",
            "Epoch 3 - Loss: 0.2028\n",
            "Epoch 4 - Loss: 0.1547\n",
            "Epoch 5 - Loss: 0.1230\n",
            "Epoch 6 - Loss: 0.0979\n",
            "Epoch 7 - Loss: 0.0776\n",
            "Epoch 8 - Loss: 0.0612\n",
            "Epoch 9 - Loss: 0.0491\n",
            "Epoch 10 - Loss: 0.0381\n",
            "accuracy score: 0.8961\n",
            "--------------------\n",
            "optimisator = <class 'torch.optim.adagrad.Adagrad'>\n",
            "Epoch 1 - Loss: 1.3967\n",
            "Epoch 2 - Loss: 0.8322\n",
            "Epoch 3 - Loss: 0.6935\n",
            "Epoch 4 - Loss: 0.6271\n",
            "Epoch 5 - Loss: 0.5854\n",
            "Epoch 6 - Loss: 0.5563\n",
            "Epoch 7 - Loss: 0.5337\n",
            "Epoch 8 - Loss: 0.5149\n",
            "Epoch 9 - Loss: 0.4994\n",
            "Epoch 10 - Loss: 0.4865\n",
            "accuracy score: 0.7234\n",
            "--------------------\n",
            "optimisator = <class 'torch.optim.rmsprop.RMSprop'>\n",
            "Epoch 1 - Loss: 0.4440\n",
            "Epoch 2 - Loss: 0.2431\n",
            "Epoch 3 - Loss: 0.1787\n",
            "Epoch 4 - Loss: 0.1389\n",
            "Epoch 5 - Loss: 0.1091\n",
            "Epoch 6 - Loss: 0.0857\n",
            "Epoch 7 - Loss: 0.0675\n",
            "Epoch 8 - Loss: 0.0530\n",
            "Epoch 9 - Loss: 0.0404\n",
            "Epoch 10 - Loss: 0.0312\n",
            "accuracy score: 0.8972\n"
          ]
        }
      ],
      "source": [
        "optimisators  = [torch.optim.Adam, torch.optim.Adagrad, torch.optim.RMSprop]\n",
        "lr = 0.001\n",
        "n_epochs = 10\n",
        "\n",
        "for optimisator in optimisators:\n",
        "    print('-'*20)\n",
        "    print(f'{optimisator = }')\n",
        "    fc_net = FCNet_act(activation = nn.GELU())\n",
        "    loss_function = nn.CrossEntropyLoss()\n",
        "    optimizer = optimisator(fc_net.parameters(), lr=3e-4)\n",
        "    \n",
        "    loss_history = []\n",
        "    for epoch in range(n_epochs):\n",
        "        epoch_loss = 0\n",
        "        for images, labels in trainloader:\n",
        "            optimizer.zero_grad()\n",
        "            outputs = fc_net(images)\n",
        "            loss = loss_function(outputs, labels)\n",
        "            loss.backward()\n",
        "            optimizer.step()\n",
        "\n",
        "            epoch_loss += loss.item()\n",
        "\n",
        "        loss_history.append(epoch_loss/len(trainloader))\n",
        "        \n",
        "        print(f\"Epoch {epoch+1} - Loss: {loss_history[epoch]:.4f}\")\n",
        "    print(f\"accuracy score: {get_accuracy(fc_net, testloader)}\")"
      ]
    },
    {
      "cell_type": "markdown",
      "metadata": {},
      "source": [
        "`RMSprop` - лучшее качество, `Adam` - тоже не плохо, разница маленькая. `Adagrad` - плохо."
      ]
    },
    {
      "cell_type": "markdown",
      "metadata": {
        "id": "eHA48PsperxS"
      },
      "source": [
        "### Задание 7. Реализация ReLU\n",
        "\n",
        "**4** балла\n",
        "\n",
        "Самостоятельно реализуйте функцию активации ReLU.\n",
        "Замените в уже обученной модели функцию активации на вашу. Убедитесь что ничего не изменилась."
      ]
    },
    {
      "cell_type": "code",
      "execution_count": 61,
      "metadata": {
        "id": "63uTkUp-a2xr"
      },
      "outputs": [],
      "source": [
        "class CustomReLU(nn.Module):\n",
        "    def __init__(self):\n",
        "        super().__init__()\n",
        "\n",
        "    def forward(self, x):\n",
        "        # YOUR CODE HERE\n",
        "        # если элемент x < 0, то 0, если >= 0, то x\n",
        "        x = torch.maximum(x, torch.tensor([0]))\n",
        "        return x"
      ]
    },
    {
      "cell_type": "markdown",
      "metadata": {
        "id": "xsKzxa33fhbN"
      },
      "source": [
        "Заново обучите модель и проверьте правильность реализации `CustomReLU`."
      ]
    },
    {
      "cell_type": "code",
      "execution_count": 64,
      "metadata": {},
      "outputs": [
        {
          "name": "stdout",
          "output_type": "stream",
          "text": [
            "Epoch 1 - Loss: 0.6905\n",
            "Epoch 2 - Loss: 0.3030\n",
            "Epoch 3 - Loss: 0.2208\n",
            "Epoch 4 - Loss: 0.1705\n",
            "Epoch 5 - Loss: 0.1342\n",
            "Epoch 6 - Loss: 0.1090\n",
            "Epoch 7 - Loss: 0.0896\n",
            "Epoch 8 - Loss: 0.0727\n",
            "Epoch 9 - Loss: 0.0602\n",
            "Epoch 10 - Loss: 0.0485\n",
            "accuracy score: 0.9022\n"
          ]
        }
      ],
      "source": [
        "fc_net = FCNet_act(activation = CustomReLU())\n",
        "loss_function = nn.CrossEntropyLoss()\n",
        "lr = 0.001\n",
        "optimizer = torch.optim.Adam(fc_net.parameters(), lr=3e-4)\n",
        "n_epochs = 10\n",
        "loss_history = []\n",
        "\n",
        "for epoch in range(n_epochs):\n",
        "    epoch_loss = 0\n",
        "    for images, labels in trainloader:\n",
        "        optimizer.zero_grad()\n",
        "        outputs = fc_net(images)\n",
        "        loss = loss_function(outputs, labels)\n",
        "        loss.backward()\n",
        "        optimizer.step()\n",
        "\n",
        "        epoch_loss += loss.item()\n",
        "\n",
        "    loss_history.append(epoch_loss/len(trainloader))\n",
        "\n",
        "    print(f\"Epoch {epoch+1} - Loss: {loss_history[epoch]:.4f}\")\n",
        "print(f\"accuracy score: {get_accuracy(fc_net, testloader)}\")"
      ]
    },
    {
      "cell_type": "markdown",
      "metadata": {},
      "source": [
        "`accuracy score: 0.9022`, у ReLu было `accuracy score: 0.8988`."
      ]
    },
    {
      "cell_type": "markdown",
      "metadata": {
        "id": "vWBG1mMwgN17"
      },
      "source": [
        "### Задание 8. Генерация картинок\n",
        "\n",
        "**3** балла\n",
        "\n",
        "Придумайте 3 предложения и сгенерируйте при помощи них 3 картинки, используя телеграм бота [ruDALLE](https://t.me/sber_rudalle_xl_bot). Прикрепите сюда ваши картины."
      ]
    },
    {
      "cell_type": "markdown",
      "metadata": {},
      "source": [
        "Copilot: нарисуй мне мрачное будущее"
      ]
    },
    {
      "cell_type": "markdown",
      "metadata": {},
      "source": [
        "![alt text](OIG2.jpg)"
      ]
    },
    {
      "cell_type": "markdown",
      "metadata": {},
      "source": [
        "Добавь мутантов и радиоактивные озера"
      ]
    },
    {
      "cell_type": "markdown",
      "metadata": {},
      "source": [
        "![alt text](OIG1.LY1.mvwOfwKfE3Yi.jpg)"
      ]
    },
    {
      "cell_type": "markdown",
      "metadata": {},
      "source": [
        "Добавь паладина Братства Стали и гулей"
      ]
    },
    {
      "cell_type": "markdown",
      "metadata": {},
      "source": [
        "![alt text](OIG1.jpg)"
      ]
    }
  ],
  "metadata": {
    "colab": {
      "authorship_tag": "ABX9TyN3ji5dthhFgQhP1CJ7JjiU",
      "include_colab_link": true,
      "provenance": []
    },
    "kernelspec": {
      "display_name": "Python 3",
      "name": "python3"
    },
    "language_info": {
      "codemirror_mode": {
        "name": "ipython",
        "version": 3
      },
      "file_extension": ".py",
      "mimetype": "text/x-python",
      "name": "python",
      "nbconvert_exporter": "python",
      "pygments_lexer": "ipython3",
      "version": "3.12.2"
    }
  },
  "nbformat": 4,
  "nbformat_minor": 0
}
